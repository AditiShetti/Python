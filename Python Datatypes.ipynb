{
 "cells": [
  {
   "cell_type": "markdown",
   "metadata": {},
   "source": [
    "**PYTHON DATA TYPES**"
   ]
  },
  {
   "cell_type": "markdown",
   "metadata": {},
   "source": [
    "**Mutable** : Lists, Sets, Dictionary      (can be changed after creation)      \n",
    "**Immutable**: Numbers, Strings, Tuples"
   ]
  },
  {
   "cell_type": "markdown",
   "metadata": {},
   "source": [
    "1. List []   \n",
    "Ordered/ Indexed, mutable, Allows duplicates, Supports all datatypes"
   ]
  },
  {
   "cell_type": "code",
   "execution_count": 78,
   "metadata": {},
   "outputs": [],
   "source": [
    "ice_cream=['Strawberry', 'Vanilla', True,'Butterscotch',30.5]"
   ]
  },
  {
   "cell_type": "code",
   "execution_count": 79,
   "metadata": {},
   "outputs": [
    {
     "name": "stdout",
     "output_type": "stream",
     "text": [
      "Vanilla\n",
      "True\n"
     ]
    }
   ],
   "source": [
    "print(ice_cream[1])  # retrieving from position 2\n",
    "print(ice_cream[2])  # retrieving from position 2"
   ]
  },
  {
   "cell_type": "code",
   "execution_count": 80,
   "metadata": {},
   "outputs": [
    {
     "data": {
      "text/plain": [
       "5"
      ]
     },
     "execution_count": 80,
     "metadata": {},
     "output_type": "execute_result"
    }
   ],
   "source": [
    "len(ice_cream)"
   ]
  },
  {
   "cell_type": "code",
   "execution_count": 81,
   "metadata": {},
   "outputs": [],
   "source": [
    "#Add element to list\n",
    "ice_cream.append('Chocolate')  #Add at the end"
   ]
  },
  {
   "cell_type": "code",
   "execution_count": 82,
   "metadata": {},
   "outputs": [],
   "source": [
    "ice_cream.extend(['Mango','Coffee']) # Add multiple elements at the end "
   ]
  },
  {
   "cell_type": "code",
   "execution_count": 83,
   "metadata": {},
   "outputs": [],
   "source": [
    "ice_cream.insert(0,'Caramel')   # Insert in a a specific position"
   ]
  },
  {
   "cell_type": "code",
   "execution_count": 84,
   "metadata": {},
   "outputs": [
    {
     "data": {
      "text/plain": [
       "['Caramel',\n",
       " 'Strawberry',\n",
       " 'Vanilla',\n",
       " True,\n",
       " 'Butterscotch',\n",
       " 30.5,\n",
       " 'Chocolate',\n",
       " 'Mango',\n",
       " 'Coffee']"
      ]
     },
     "execution_count": 84,
     "metadata": {},
     "output_type": "execute_result"
    }
   ],
   "source": [
    "ice_cream"
   ]
  },
  {
   "cell_type": "code",
   "execution_count": 85,
   "metadata": {},
   "outputs": [
    {
     "data": {
      "text/plain": [
       "'Strawberry'"
      ]
     },
     "execution_count": 85,
     "metadata": {},
     "output_type": "execute_result"
    }
   ],
   "source": [
    "#Delete and print\n",
    "ice_cream.pop(1)  #removes element and returns it"
   ]
  },
  {
   "cell_type": "code",
   "execution_count": 86,
   "metadata": {},
   "outputs": [],
   "source": [
    "#Only delete\n",
    "ice_cream.remove('Chocolate') #searches for first instance and removes it"
   ]
  },
  {
   "cell_type": "code",
   "execution_count": 87,
   "metadata": {},
   "outputs": [],
   "source": [
    "del ice_cream[1] #removes element but deos not return it"
   ]
  },
  {
   "cell_type": "code",
   "execution_count": 88,
   "metadata": {},
   "outputs": [
    {
     "data": {
      "text/plain": [
       "['Caramel', True, 'Butterscotch', 30.5, 'Mango', 'Coffee']"
      ]
     },
     "execution_count": 88,
     "metadata": {},
     "output_type": "execute_result"
    }
   ],
   "source": [
    "ice_cream"
   ]
  },
  {
   "cell_type": "code",
   "execution_count": 89,
   "metadata": {},
   "outputs": [
    {
     "data": {
      "text/plain": [
       "[['Blueberry', 'Choco Fudge'], True, 'Butterscotch', 30.5, 'Mango', 'Coffee']"
      ]
     },
     "execution_count": 89,
     "metadata": {},
     "output_type": "execute_result"
    }
   ],
   "source": [
    "ice_cream[0]=['Blueberry','Choco Fudge']  # Add a list to pos 0\n",
    "ice_cream"
   ]
  },
  {
   "cell_type": "code",
   "execution_count": 90,
   "metadata": {},
   "outputs": [
    {
     "data": {
      "text/plain": [
       "'Choco Fudge'"
      ]
     },
     "execution_count": 90,
     "metadata": {},
     "output_type": "execute_result"
    }
   ],
   "source": [
    "ice_cream[0][1]   #From 0th position , take value in pos 1"
   ]
  },
  {
   "cell_type": "code",
   "execution_count": 91,
   "metadata": {},
   "outputs": [],
   "source": [
    "ice_cream.insert(0,'Mango')\n",
    "ice_cream.insert(1,'Mango')"
   ]
  },
  {
   "cell_type": "code",
   "execution_count": 92,
   "metadata": {},
   "outputs": [
    {
     "name": "stdout",
     "output_type": "stream",
     "text": [
      "False\n"
     ]
    }
   ],
   "source": [
    "print('Vanilla' in ice_cream) #Check if something is present "
   ]
  },
  {
   "cell_type": "code",
   "execution_count": 93,
   "metadata": {},
   "outputs": [
    {
     "data": {
      "text/plain": [
       "['Mango',\n",
       " 'Mango',\n",
       " ['Blueberry', 'Choco Fudge'],\n",
       " True,\n",
       " 'Butterscotch',\n",
       " 30.5,\n",
       " 'Mango',\n",
       " 'Coffee']"
      ]
     },
     "execution_count": 93,
     "metadata": {},
     "output_type": "execute_result"
    }
   ],
   "source": [
    "ice_cream"
   ]
  },
  {
   "cell_type": "code",
   "execution_count": 94,
   "metadata": {},
   "outputs": [
    {
     "name": "stdout",
     "output_type": "stream",
     "text": [
      "3\n",
      "5\n"
     ]
    }
   ],
   "source": [
    "#Count the no. of times an element is in the list\n",
    "print(ice_cream.count('Mango'))\n",
    "#Index of the value \n",
    "print(ice_cream.index(30.5))"
   ]
  },
  {
   "cell_type": "code",
   "execution_count": 95,
   "metadata": {},
   "outputs": [
    {
     "name": "stdout",
     "output_type": "stream",
     "text": [
      "False\n",
      "True\n"
     ]
    }
   ],
   "source": [
    "#Check if elemnts are same\n",
    "print(ice_cream[0]==ice_cream[3])\n",
    "print(ice_cream[0]=='Mango')"
   ]
  },
  {
   "cell_type": "code",
   "execution_count": 96,
   "metadata": {},
   "outputs": [
    {
     "data": {
      "text/plain": [
       "['Coffee',\n",
       " 'Mango',\n",
       " 30.5,\n",
       " 'Butterscotch',\n",
       " True,\n",
       " ['Blueberry', 'Choco Fudge'],\n",
       " 'Mango',\n",
       " 'Mango']"
      ]
     },
     "execution_count": 96,
     "metadata": {},
     "output_type": "execute_result"
    }
   ],
   "source": [
    "#SLICING DATA\n",
    "#Reverse the list, Does not change original\n",
    "ice_cream[::-1]  "
   ]
  },
  {
   "cell_type": "code",
   "execution_count": 97,
   "metadata": {},
   "outputs": [
    {
     "name": "stdout",
     "output_type": "stream",
     "text": [
      "None\n"
     ]
    },
    {
     "data": {
      "text/plain": [
       "['Coffee',\n",
       " 'Mango',\n",
       " 30.5,\n",
       " 'Butterscotch',\n",
       " True,\n",
       " ['Blueberry', 'Choco Fudge'],\n",
       " 'Mango',\n",
       " 'Mango']"
      ]
     },
     "execution_count": 97,
     "metadata": {},
     "output_type": "execute_result"
    }
   ],
   "source": [
    "print(ice_cream.reverse())  # Changes original makes it Reverse\n",
    "ice_cream"
   ]
  },
  {
   "cell_type": "code",
   "execution_count": 98,
   "metadata": {},
   "outputs": [
    {
     "name": "stdout",
     "output_type": "stream",
     "text": [
      "Mango\n",
      "['Mango', 30.5]\n"
     ]
    }
   ],
   "source": [
    "print(ice_cream[-1]) #last element\n",
    "print(ice_cream[1:3])"
   ]
  },
  {
   "cell_type": "code",
   "execution_count": 99,
   "metadata": {},
   "outputs": [
    {
     "data": {
      "text/plain": [
       "['Coffee', 30.5, True, 'Mango']"
      ]
     },
     "execution_count": 99,
     "metadata": {},
     "output_type": "execute_result"
    }
   ],
   "source": [
    "#Start , end, step\n",
    "ice_cream[::2]   #Prints every 2nd value"
   ]
  },
  {
   "cell_type": "code",
   "execution_count": 100,
   "metadata": {},
   "outputs": [
    {
     "ename": "TypeError",
     "evalue": "'<' not supported between instances of 'float' and 'str'",
     "output_type": "error",
     "traceback": [
      "\u001b[1;31m---------------------------------------------------------------------------\u001b[0m",
      "\u001b[1;31mTypeError\u001b[0m                                 Traceback (most recent call last)",
      "Cell \u001b[1;32mIn[100], line 2\u001b[0m\n\u001b[0;32m      1\u001b[0m \u001b[38;5;66;03m#Sort isnt possible using sort in this case as it has different dtypes\u001b[39;00m\n\u001b[1;32m----> 2\u001b[0m \u001b[43mice_cream\u001b[49m\u001b[38;5;241;43m.\u001b[39;49m\u001b[43msort\u001b[49m\u001b[43m(\u001b[49m\u001b[43m)\u001b[49m\n",
      "\u001b[1;31mTypeError\u001b[0m: '<' not supported between instances of 'float' and 'str'"
     ]
    }
   ],
   "source": [
    "#Sort isnt possible using sort in this case as it has different dtypes\n",
    "ice_cream.sort()"
   ]
  },
  {
   "cell_type": "code",
   "execution_count": null,
   "metadata": {},
   "outputs": [],
   "source": [
    "#Copy the list\n",
    "copy_ice_cream_1= ice_cream.copy()\n",
    "copy_ice_cream_2= copy_ice_cream[:]\n",
    "copy_ice_cream_3=list(ice_cream)"
   ]
  },
  {
   "cell_type": "markdown",
   "metadata": {},
   "source": [
    "2. String \" \"   \n",
    "Immutable, Ordered, Allows duplicates"
   ]
  },
  {
   "cell_type": "code",
   "execution_count": null,
   "metadata": {},
   "outputs": [],
   "source": [
    "a= \" Hello everyone! \""
   ]
  },
  {
   "cell_type": "code",
   "execution_count": null,
   "metadata": {},
   "outputs": [
    {
     "data": {
      "text/plain": [
       "17"
      ]
     },
     "execution_count": 121,
     "metadata": {},
     "output_type": "execute_result"
    }
   ],
   "source": [
    "len(a)"
   ]
  },
  {
   "cell_type": "code",
   "execution_count": null,
   "metadata": {},
   "outputs": [
    {
     "data": {
      "text/plain": [
       "'Hello everyone!'"
      ]
     },
     "execution_count": 142,
     "metadata": {},
     "output_type": "execute_result"
    }
   ],
   "source": [
    "a.strip()"
   ]
  },
  {
   "cell_type": "code",
   "execution_count": null,
   "metadata": {},
   "outputs": [
    {
     "name": "stdout",
     "output_type": "stream",
     "text": [
      "o eve\n",
      "e\n",
      " !enoyreve olleH \n"
     ]
    }
   ],
   "source": [
    "print(a[5:10])  #Slice from 5 to 9\n",
    "print(a[2])     #Element at position\n",
    "print(a[::-1])  #Reverse the string"
   ]
  },
  {
   "cell_type": "code",
   "execution_count": null,
   "metadata": {},
   "outputs": [
    {
     "name": "stdout",
     "output_type": "stream",
     "text": [
      " HELLO EVERYONE! \n",
      " hello everyone! \n"
     ]
    }
   ],
   "source": [
    "print(a.upper())\n",
    "print(a.lower())"
   ]
  },
  {
   "cell_type": "code",
   "execution_count": null,
   "metadata": {},
   "outputs": [
    {
     "data": {
      "text/plain": [
       "' Hii everyone! '"
      ]
     },
     "execution_count": 127,
     "metadata": {},
     "output_type": "execute_result"
    }
   ],
   "source": [
    "a.replace('Hello','Hii')  #replace a word"
   ]
  },
  {
   "cell_type": "code",
   "execution_count": null,
   "metadata": {},
   "outputs": [
    {
     "data": {
      "text/plain": [
       "' Hyllo yvyryony! '"
      ]
     },
     "execution_count": 128,
     "metadata": {},
     "output_type": "execute_result"
    }
   ],
   "source": [
    "a.replace('e','y')  #Replace all occurrences of a character"
   ]
  },
  {
   "cell_type": "code",
   "execution_count": null,
   "metadata": {},
   "outputs": [
    {
     "name": "stdout",
     "output_type": "stream",
     "text": [
      "3\n",
      "-1\n"
     ]
    }
   ],
   "source": [
    "print(a.find('ll'))  #Find pos \n",
    "print(a.find('yy'))  #If not present returns -1"
   ]
  },
  {
   "cell_type": "code",
   "execution_count": null,
   "metadata": {},
   "outputs": [
    {
     "data": {
      "text/plain": [
       "4"
      ]
     },
     "execution_count": 135,
     "metadata": {},
     "output_type": "execute_result"
    }
   ],
   "source": [
    "a.count('e') # Count all occurrences of the character"
   ]
  },
  {
   "cell_type": "code",
   "execution_count": null,
   "metadata": {},
   "outputs": [
    {
     "data": {
      "text/plain": [
       "['', 'Hello', 'everyone!', '']"
      ]
     },
     "execution_count": 130,
     "metadata": {},
     "output_type": "execute_result"
    }
   ],
   "source": [
    "a.split(' ') #Split by space in this case"
   ]
  },
  {
   "cell_type": "code",
   "execution_count": null,
   "metadata": {},
   "outputs": [
    {
     "name": "stdout",
     "output_type": "stream",
     "text": [
      "['The subjects are English', 'Maths', ' History and Science']\n"
     ]
    }
   ],
   "source": [
    "b=\"The subjects are English,Maths, History and Science\"\n",
    "print(b.split(','))"
   ]
  },
  {
   "cell_type": "code",
   "execution_count": null,
   "metadata": {},
   "outputs": [
    {
     "name": "stdout",
     "output_type": "stream",
     "text": [
      "False\n",
      "True\n",
      "False\n"
     ]
    }
   ],
   "source": [
    "print(b.isdigit())\n",
    "print(b.startswith('T'))\n",
    "print(b.endswith('a'))"
   ]
  },
  {
   "cell_type": "code",
   "execution_count": null,
   "metadata": {},
   "outputs": [
    {
     "name": "stdout",
     "output_type": "stream",
     "text": [
      "first line \n",
      " second line\n"
     ]
    }
   ],
   "source": [
    "c=\"first line \\nsecond line\"\n",
    "print(c)"
   ]
  },
  {
   "cell_type": "code",
   "execution_count": null,
   "metadata": {},
   "outputs": [
    {
     "data": {
      "text/plain": [
       "' Hello everyone!  00 The subjects are English,Maths, History and Science'"
      ]
     },
     "execution_count": 144,
     "metadata": {},
     "output_type": "execute_result"
    }
   ],
   "source": [
    "a+\" 00 \"+b  #Concatenate strings"
   ]
  },
  {
   "cell_type": "code",
   "execution_count": null,
   "metadata": {},
   "outputs": [
    {
     "name": "stdout",
     "output_type": "stream",
     "text": [
      "My age is 22\n",
      "In December I will be 23\n",
      "The value of pi is 3.142\n"
     ]
    }
   ],
   "source": [
    "#Format\n",
    "age=22       \n",
    "print(f\"My age is {age}\")\n",
    "print(f\"In December I will be {age +1}\")\n",
    "pi=3.14159\n",
    "print(f\"The value of pi is {pi:.3f}\")  # Can change decimal value "
   ]
  },
  {
   "cell_type": "markdown",
   "metadata": {},
   "source": [
    "3. TUPLE ()  \n",
    "Ordered ,IMMUTABLE, Allows duplicates, Supports all datatypes"
   ]
  },
  {
   "cell_type": "code",
   "execution_count": null,
   "metadata": {},
   "outputs": [],
   "source": [
    "tup_1= (True, 50,67,89,21,9,4) #Create tuple directly"
   ]
  },
  {
   "cell_type": "code",
   "execution_count": null,
   "metadata": {},
   "outputs": [
    {
     "data": {
      "text/plain": [
       "(True, 50, 67, 89, 21, 9, 4, 10, 20)"
      ]
     },
     "execution_count": 47,
     "metadata": {},
     "output_type": "execute_result"
    }
   ],
   "source": [
    "tup_1+ (10,20)"
   ]
  },
  {
   "cell_type": "markdown",
   "metadata": {},
   "source": [
    "example_tup= (0,)  # Acomma at the end to show its a tuple"
   ]
  },
  {
   "cell_type": "code",
   "execution_count": null,
   "metadata": {},
   "outputs": [],
   "source": [
    "tup_2=tuple(ice_cream) #Create list into a tuple"
   ]
  },
  {
   "cell_type": "code",
   "execution_count": null,
   "metadata": {},
   "outputs": [
    {
     "data": {
      "text/plain": [
       "('Strawberry', 'Vanilla', True, 'Butterscotch', 30.5)"
      ]
     },
     "execution_count": 56,
     "metadata": {},
     "output_type": "execute_result"
    }
   ],
   "source": [
    "tup_2"
   ]
  },
  {
   "cell_type": "code",
   "execution_count": null,
   "metadata": {},
   "outputs": [
    {
     "data": {
      "text/plain": [
       "tuple"
      ]
     },
     "execution_count": 33,
     "metadata": {},
     "output_type": "execute_result"
    }
   ],
   "source": [
    "type(tup_2)"
   ]
  },
  {
   "cell_type": "code",
   "execution_count": null,
   "metadata": {},
   "outputs": [
    {
     "ename": "TypeError",
     "evalue": "'tuple' object does not support item assignment",
     "output_type": "error",
     "traceback": [
      "\u001b[1;31m---------------------------------------------------------------------------\u001b[0m",
      "\u001b[1;31mTypeError\u001b[0m                                 Traceback (most recent call last)",
      "Cell \u001b[1;32mIn[46], line 1\u001b[0m\n\u001b[1;32m----> 1\u001b[0m \u001b[43mtup_2\u001b[49m\u001b[43m[\u001b[49m\u001b[38;5;241;43m0\u001b[39;49m\u001b[43m]\u001b[49m\u001b[38;5;241m=\u001b[39m\u001b[38;5;124m'\u001b[39m\u001b[38;5;124mRaspberry\u001b[39m\u001b[38;5;124m'\u001b[39m\n",
      "\u001b[1;31mTypeError\u001b[0m: 'tuple' object does not support item assignment"
     ]
    }
   ],
   "source": [
    "tup_2[0]='Raspberry'  # Tuple cannot be changed once created "
   ]
  },
  {
   "cell_type": "code",
   "execution_count": null,
   "metadata": {},
   "outputs": [
    {
     "name": "stdout",
     "output_type": "stream",
     "text": [
      "89\n",
      "4\n",
      "7\n"
     ]
    }
   ],
   "source": [
    "print(tup_1[3])\n",
    "print(tup_1[-1])  #Last element\n",
    "print(len(tup_1))"
   ]
  },
  {
   "cell_type": "code",
   "execution_count": null,
   "metadata": {},
   "outputs": [],
   "source": [
    "tup_3=('A','B','C','D')"
   ]
  },
  {
   "cell_type": "code",
   "execution_count": null,
   "metadata": {},
   "outputs": [
    {
     "data": {
      "text/plain": [
       "(True, 50, 67, 89, 21, 9, 4, 'A', 'B', 'C', 'D')"
      ]
     },
     "execution_count": 39,
     "metadata": {},
     "output_type": "execute_result"
    }
   ],
   "source": [
    "tup1+tup_3  #Adding tuples"
   ]
  },
  {
   "cell_type": "code",
   "execution_count": null,
   "metadata": {},
   "outputs": [
    {
     "name": "stdout",
     "output_type": "stream",
     "text": [
      "(True, 50, 67, 89, 21, 9, 4, True, 50, 67, 89, 21, 9, 4)\n",
      "D\n"
     ]
    }
   ],
   "source": [
    "print(tup_1*2)\n",
    "print(max(tup_3)) #Max of tuple 2"
   ]
  },
  {
   "cell_type": "code",
   "execution_count": null,
   "metadata": {},
   "outputs": [
    {
     "name": "stdout",
     "output_type": "stream",
     "text": [
      "1\n",
      "3\n"
     ]
    }
   ],
   "source": [
    "print(tup_3.count('A'))\n",
    "print(tup_3.index('D'))"
   ]
  },
  {
   "cell_type": "code",
   "execution_count": null,
   "metadata": {},
   "outputs": [
    {
     "name": "stdout",
     "output_type": "stream",
     "text": [
      "True\n"
     ]
    }
   ],
   "source": [
    "print('Vanilla' in tup_2) #To check if element is present in the list"
   ]
  },
  {
   "cell_type": "markdown",
   "metadata": {},
   "source": [
    "4. Sets {}  \n",
    "Unordered/Unindexed ,Mutable, Allows duplicates, Dtypes allowed: Int, Strings, Tuples  "
   ]
  },
  {
   "cell_type": "code",
   "execution_count": null,
   "metadata": {},
   "outputs": [],
   "source": [
    "skills={'python','excel','java','power bi'} #Create set"
   ]
  },
  {
   "cell_type": "code",
   "execution_count": null,
   "metadata": {},
   "outputs": [],
   "source": [
    "skills.add('R') # ADD 1 item"
   ]
  },
  {
   "cell_type": "code",
   "execution_count": null,
   "metadata": {},
   "outputs": [
    {
     "data": {
      "text/plain": [
       "{'R', 'excel', 'java', 'power bi', 'python'}"
      ]
     },
     "execution_count": 7,
     "metadata": {},
     "output_type": "execute_result"
    }
   ],
   "source": [
    "skills"
   ]
  },
  {
   "cell_type": "code",
   "execution_count": null,
   "metadata": {},
   "outputs": [
    {
     "name": "stdout",
     "output_type": "stream",
     "text": [
      "{'Streamlit', 'power bi', 'Sql', 'java', 'R', 'python', 'excel'}\n"
     ]
    }
   ],
   "source": [
    "skills.update(['Sql','Streamlit']) #Add multiple elements\n",
    "print(skills)"
   ]
  },
  {
   "cell_type": "code",
   "execution_count": null,
   "metadata": {},
   "outputs": [
    {
     "data": {
      "text/plain": [
       "True"
      ]
     },
     "execution_count": 22,
     "metadata": {},
     "output_type": "execute_result"
    }
   ],
   "source": [
    "'java' in skills"
   ]
  },
  {
   "cell_type": "code",
   "execution_count": null,
   "metadata": {},
   "outputs": [],
   "source": [
    "#REMOVE\n",
    "#skills.remove('Sql')\n",
    "#skills.pop() #Removes and prints\n",
    "#skills.discard('excel') # Removes item , Shows no error even if it doesnt exist\n",
    "skills.clear()  #Clears the whole set"
   ]
  },
  {
   "cell_type": "code",
   "execution_count": null,
   "metadata": {},
   "outputs": [
    {
     "data": {
      "text/plain": [
       "set()"
      ]
     },
     "execution_count": 20,
     "metadata": {},
     "output_type": "execute_result"
    }
   ],
   "source": [
    "skills"
   ]
  },
  {
   "cell_type": "markdown",
   "metadata": {},
   "source": [
    "Set Operations"
   ]
  },
  {
   "cell_type": "code",
   "execution_count": null,
   "metadata": {},
   "outputs": [],
   "source": [
    "set1 = {\"India\", \"China\", \"Japan\", \"Russia\", \"Thailand\"}\n",
    "set2 = {\"Russia\", \"Germany\", \"France\", \"Italy\", \"India\"}"
   ]
  },
  {
   "cell_type": "code",
   "execution_count": null,
   "metadata": {},
   "outputs": [
    {
     "name": "stdout",
     "output_type": "stream",
     "text": [
      "{'Japan', 'Italy', 'France', 'India', 'China', 'Russia', 'Thailand', 'Germany'}\n",
      "{'Japan', 'Italy', 'France', 'India', 'China', 'Russia', 'Thailand', 'Germany'}\n"
     ]
    }
   ],
   "source": [
    "#Union\n",
    "print(set1 | set2)  #All elemnts from the sets but ONLY 1 TIME\n",
    "print(set1.union(set2))"
   ]
  },
  {
   "cell_type": "code",
   "execution_count": null,
   "metadata": {},
   "outputs": [
    {
     "name": "stdout",
     "output_type": "stream",
     "text": [
      "{'India', 'Russia'}\n",
      "{'India', 'Russia'}\n"
     ]
    }
   ],
   "source": [
    "#Intersection / Common\n",
    "print(set1 & set2)\n",
    "print(set1.intersection(set2))"
   ]
  },
  {
   "cell_type": "code",
   "execution_count": null,
   "metadata": {},
   "outputs": [
    {
     "name": "stdout",
     "output_type": "stream",
     "text": [
      "{'Thailand', 'Japan', 'China'}\n",
      "{'Italy', 'France', 'Germany'}\n",
      "{'Thailand', 'Japan', 'China'}\n"
     ]
    }
   ],
   "source": [
    "#Difference\n",
    "print(set1-set2)  #From set1 not in set2 \n",
    "print(set2-set1)  #Elements left after removing \n",
    "print(set1.difference(set2))"
   ]
  },
  {
   "cell_type": "code",
   "execution_count": null,
   "metadata": {},
   "outputs": [
    {
     "name": "stdout",
     "output_type": "stream",
     "text": [
      "{'Japan', 'Italy', 'France', 'China', 'Thailand', 'Germany'}\n"
     ]
    }
   ],
   "source": [
    "#Symmetric difference . Present in either one but not other . Not in both\n",
    "print(set1 ^ set2)"
   ]
  },
  {
   "cell_type": "code",
   "execution_count": null,
   "metadata": {},
   "outputs": [
    {
     "ename": "TypeError",
     "evalue": "unsupported operand type(s) for +: 'set' and 'set'",
     "output_type": "error",
     "traceback": [
      "\u001b[1;31m---------------------------------------------------------------------------\u001b[0m",
      "\u001b[1;31mTypeError\u001b[0m                                 Traceback (most recent call last)",
      "Cell \u001b[1;32mIn[39], line 1\u001b[0m\n\u001b[1;32m----> 1\u001b[0m set3\u001b[38;5;241m=\u001b[39m\u001b[43mset1\u001b[49m\u001b[38;5;241;43m+\u001b[39;49m\u001b[43mset2\u001b[49m  \u001b[38;5;66;03m#Adding 2 sets is not allowed\u001b[39;00m\n",
      "\u001b[1;31mTypeError\u001b[0m: unsupported operand type(s) for +: 'set' and 'set'"
     ]
    }
   ],
   "source": [
    "set1+set2  #Adding 2 sets is not allowed"
   ]
  },
  {
   "cell_type": "markdown",
   "metadata": {},
   "source": [
    "5. Dictionary {}  \n",
    "Mutable,Unordered, No duplicates, Keys:Int/Str/Tuple, Values: any dtypes"
   ]
  },
  {
   "cell_type": "code",
   "execution_count": null,
   "metadata": {},
   "outputs": [],
   "source": [
    "dict1={'name': 'Aditi', 'age':22,'location':'Bengaluru','is_girl': True}"
   ]
  },
  {
   "cell_type": "markdown",
   "metadata": {},
   "source": [
    "keys can also be a tuple"
   ]
  },
  {
   "cell_type": "code",
   "execution_count": null,
   "metadata": {},
   "outputs": [
    {
     "name": "stdout",
     "output_type": "stream",
     "text": [
      "dict_keys(['name', 'age', 'location', 'is_girl'])\n",
      "dict_values(['Aditi', 22, 'Bengaluru', True])\n",
      "dict_items([('name', 'Aditi'), ('age', 22), ('location', 'Bengaluru'), ('is_girl', True)])\n"
     ]
    }
   ],
   "source": [
    "#Acessing elements\n",
    "print(dict1.keys())  #Print only keys\n",
    "print(dict1.values())  #Print only values\n",
    "print(dict1.items())  #Print all items (whole dict)"
   ]
  },
  {
   "cell_type": "code",
   "execution_count": null,
   "metadata": {},
   "outputs": [],
   "source": [
    "#Update\n",
    "dict1['age']=10  #Updating existing element"
   ]
  },
  {
   "cell_type": "code",
   "execution_count": null,
   "metadata": {},
   "outputs": [
    {
     "data": {
      "text/plain": [
       "10"
      ]
     },
     "execution_count": 50,
     "metadata": {},
     "output_type": "execute_result"
    }
   ],
   "source": [
    "#DELETE\n",
    "dict1.pop('age')  #Del and print\n",
    "dict1.clear()\n",
    "del dict1['age']"
   ]
  },
  {
   "cell_type": "code",
   "execution_count": null,
   "metadata": {},
   "outputs": [],
   "source": [
    "#ADD AN ELEMENT\n",
    "dict1['Salary']=150000; #Add a new element"
   ]
  },
  {
   "cell_type": "code",
   "execution_count": null,
   "metadata": {},
   "outputs": [],
   "source": [
    "dict1['fruit']='mango' #Add an element"
   ]
  },
  {
   "cell_type": "code",
   "execution_count": 104,
   "metadata": {},
   "outputs": [],
   "source": [
    "#Add a list (multiple elements)\n",
    "dict1['colours']=['blue','white','black']"
   ]
  },
  {
   "cell_type": "code",
   "execution_count": null,
   "metadata": {},
   "outputs": [
    {
     "data": {
      "text/plain": [
       "'Not found'"
      ]
     },
     "execution_count": 53,
     "metadata": {},
     "output_type": "execute_result"
    }
   ],
   "source": [
    "dict1.get('Salary','Not found') #Search for an element , if not found print"
   ]
  },
  {
   "cell_type": "code",
   "execution_count": 103,
   "metadata": {},
   "outputs": [
    {
     "name": "stdout",
     "output_type": "stream",
     "text": [
      "True\n",
      "False\n"
     ]
    }
   ],
   "source": [
    "#Check if exists\n",
    "print('name' in dict1) #Only checks keys\n",
    "print('Aditi' in dict1) #Not for values"
   ]
  },
  {
   "cell_type": "code",
   "execution_count": 110,
   "metadata": {},
   "outputs": [
    {
     "name": "stdout",
     "output_type": "stream",
     "text": [
      "blue\n"
     ]
    }
   ],
   "source": [
    "#Access specific elements from the list\n",
    "print(dict1['colours'][0])"
   ]
  },
  {
   "cell_type": "code",
   "execution_count": null,
   "metadata": {},
   "outputs": [],
   "source": [
    "#Remove form a specific list\n",
    "dict1['colours'].remove('white')"
   ]
  },
  {
   "cell_type": "code",
   "execution_count": 113,
   "metadata": {},
   "outputs": [
    {
     "data": {
      "text/plain": [
       "{'name': 'Aditi',\n",
       " 'location': 'Bengaluru',\n",
       " 'is_girl': True,\n",
       " 'fruit': 'mango',\n",
       " 'Salary': 150000,\n",
       " 'colours': ['blue', 'black']}"
      ]
     },
     "execution_count": 113,
     "metadata": {},
     "output_type": "execute_result"
    }
   ],
   "source": [
    "dict1"
   ]
  },
  {
   "cell_type": "markdown",
   "metadata": {},
   "source": [
    "C:\\Users\\Aditi\\Desktop\\Projects\\Python Datatypes.png"
   ]
  },
  {
   "cell_type": "markdown",
   "metadata": {},
   "source": []
  }
 ],
 "metadata": {
  "kernelspec": {
   "display_name": "Python 3",
   "language": "python",
   "name": "python3"
  },
  "language_info": {
   "codemirror_mode": {
    "name": "ipython",
    "version": 3
   },
   "file_extension": ".py",
   "mimetype": "text/x-python",
   "name": "python",
   "nbconvert_exporter": "python",
   "pygments_lexer": "ipython3",
   "version": "3.11.5"
  }
 },
 "nbformat": 4,
 "nbformat_minor": 2
}
